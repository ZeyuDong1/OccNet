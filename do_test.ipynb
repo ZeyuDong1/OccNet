{
 "cells": [
  {
   "cell_type": "code",
   "execution_count": null,
   "id": "initial_id",
   "metadata": {
    "collapsed": true
   },
   "outputs": [],
   "source": []
  },
  {
   "cell_type": "code",
   "execution_count": 1,
   "id": "878557c5f9dc9ef1",
   "metadata": {
    "collapsed": false,
    "is_executing": true
   },
   "outputs": [
    {
     "name": "stderr",
     "output_type": "stream",
     "text": [
      "/opt/conda/envs/occ/lib/python3.7/site-packages/ipykernel_launcher.py:4: UserWarning: torch.range is deprecated and will be removed in a future release because its behavior is inconsistent with Python's range builtin. Instead, use torch.arange, which produces values in [start, end).\n",
      "  after removing the cwd from sys.path.\n"
     ]
    }
   ],
   "source": [
    "import numpy as np\n",
    "import torch\n",
    "\n",
    "a = torch.range(0,8)"
   ]
  },
  {
   "cell_type": "markdown",
   "id": "05158ca3",
   "metadata": {},
   "source": [
    "# 测试occ gt的预测范围是不是0-15"
   ]
  },
  {
   "cell_type": "code",
   "execution_count": 11,
   "id": "8525df3c4f0dae90",
   "metadata": {
    "collapsed": false
   },
   "outputs": [
    {
     "name": "stdout",
     "output_type": "stream",
     "text": [
      "(30196, 2)\n",
      "15\n",
      "(31345, 2)\n",
      "15\n"
     ]
    }
   ],
   "source": [
    "#加载后的数据semantic最大是15\n",
    "filepath = '/nfs/projects/OccNet-1/flowsPre/occ_gt_2_2.npy'\n",
    "occ = np.load(filepath)\n",
    "print(occ.shape)\n",
    "print(occ[:,1].max())\n",
    "\n",
    "#加载前\n",
    "filepath = '/nfs/projects/OccNet-1/data/occ_gt_release_v1_0/train/scene-0004/000_occ.npy'\n",
    "occ = np.load(filepath)\n",
    "print(occ.shape)\n",
    "print(occ[:,1].max())"
   ]
  }
 ],
 "metadata": {
  "kernelspec": {
   "display_name": "Python 3",
   "language": "python",
   "name": "python3"
  },
  "language_info": {
   "codemirror_mode": {
    "name": "ipython",
    "version": 3
   },
   "file_extension": ".py",
   "mimetype": "text/x-python",
   "name": "python",
   "nbconvert_exporter": "python",
   "pygments_lexer": "ipython3",
   "version": "3.7.16"
  }
 },
 "nbformat": 4,
 "nbformat_minor": 5
}
